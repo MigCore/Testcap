{
 "cells": [
  {
   "cell_type": "markdown",
   "metadata": {},
   "source": [
    "<h1 align=\"center\"><font color='green'>NBA Predictions</font></h1>"
   ]
  },
  {
   "cell_type": "markdown",
   "metadata": {},
   "source": [
    "### <font color='289C4E'>Table of contents<font><a class='anchor' id='top'></a>\n",
    "- [Processing Data Cleaning](#1)\n",
    "- [Feature Selection](#2)\n",
    "- [Modelling](#3)\n",
    "- [Conclusion](#4)"
   ]
  },
  {
   "cell_type": "markdown",
   "metadata": {},
   "source": [
    "<h2 align=\"center\"> <font color='grey'>Processing Data Cleaning</font></h2>"
   ]
  },
  {
   "cell_type": "code",
   "execution_count": 3,
   "metadata": {
    "gather": {
     "logged": 1677716005285
    }
   },
   "outputs": [],
   "source": [
    "import pandas as pd\n",
    "import matplotlib.pyplot as plt\n",
    "import numpy as np\n",
    "\n",
    "from sklearn.preprocessing import MinMaxScaler\n",
    "from sklearn.model_selection import TimeSeriesSplit\n",
    "from sklearn.svm import SVC\n",
    "from sklearn.linear_model import RidgeClassifier\n",
    "from sklearn.model_selection import RandomizedSearchCV as RSCV\n",
    "from sklearn.ensemble import RandomForestClassifier\n",
    "from sklearn.decomposition import PCA\n",
    "from sklearn.metrics import accuracy_score\n",
    "from sklearn.linear_model import LogisticRegression\n",
    "from sklearn.feature_selection import SequentialFeatureSelector\n",
    "\n",
    "\n",
    " # setting output lengths for panda DFs\n",
    "pd.set_option('display.max_columns', 50)\n",
    "pd.set_option('display.max_row',50)\n"
   ]
  },
  {
   "cell_type": "code",
   "execution_count": 4,
   "metadata": {},
   "outputs": [],
   "source": [
    "df = pd.read_csv('Model.csv').set_index('date').sort_index()"
   ]
  },
  {
   "cell_type": "code",
   "execution_count": 7,
   "metadata": {},
   "outputs": [],
   "source": [
    "X=df.drop('won_next',axis=1)\n",
    "y = df['won_next']"
   ]
  },
  {
   "cell_type": "code",
   "execution_count": 8,
   "metadata": {},
   "outputs": [],
   "source": [
    "y_train, y_test =None,None\n",
    "X_train, X_test = None,None\n",
    "tss = TimeSeriesSplit(n_splits = 3)\n",
    "for train_index, test_index in tss.split(X):\n",
    "    X_train, X_test = X.iloc[train_index, :], X.iloc[test_index,:]\n",
    "    y_train, y_test = y.iloc[train_index], y.iloc[test_index]"
   ]
  },
  {
   "cell_type": "code",
   "execution_count": 9,
   "metadata": {},
   "outputs": [
    {
     "name": "stdout",
     "output_type": "stream",
     "text": [
      "Train accuracy : 0.5770220292651552\n",
      "Testing accuracy : 0.5656054027978775\n"
     ]
    }
   ],
   "source": [
    "logreg=LogisticRegression(class_weight='balanced',solver='lbfgs',random_state=42,n_jobs=-1,max_iter=500)\n",
    "logreg.fit(X_train,y_train)\n",
    "y_pred = logreg.predict(X_train)\n",
    "train_acc = accuracy_score(y_train,y_pred)\n",
    "print(\"Train accuracy :\",train_acc)\n",
    "y_pred = logreg.predict(X_test)\n",
    "test_acc = accuracy_score(y_test,y_pred)\n",
    "print(\"Testing accuracy :\",test_acc)"
   ]
  },
  {
   "cell_type": "code",
   "execution_count": 10,
   "metadata": {},
   "outputs": [
    {
     "name": "stdout",
     "output_type": "stream",
     "text": [
      "Train accuracy : 0.6002572760894035\n",
      "Testing accuracy : 0.5824891461649783\n"
     ]
    }
   ],
   "source": [
    "logreg=RidgeClassifier(random_state=42,alpha=1)\n",
    "logreg.fit(X_train,y_train)\n",
    "y_pred = logreg.predict(X_train)\n",
    "train_acc = accuracy_score(y_train,y_pred)\n",
    "print(\"Train accuracy :\",train_acc)\n",
    "y_pred = logreg.predict(X_test)\n",
    "test_acc = accuracy_score(y_test,y_pred)\n",
    "print(\"Testing accuracy :\",test_acc)"
   ]
  },
  {
   "cell_type": "code",
   "execution_count": 11,
   "metadata": {},
   "outputs": [
    {
     "name": "stdout",
     "output_type": "stream",
     "text": [
      "Train accuracy : 0.578951599935681\n",
      "Testing accuracy : 0.5653642064640617\n"
     ]
    }
   ],
   "source": [
    "pca = PCA(.95)\n",
    "prin = pca.fit(X_train)\n",
    "train_pca = pca.transform(X_train)\n",
    "test_pca = pca.transform(X_test)\n",
    "logreg.fit(train_pca,y_train)\n",
    "y_pred = logreg.predict(train_pca)\n",
    "train_acc = accuracy_score(y_train,y_pred)\n",
    "print(\"Train accuracy :\",train_acc)\n",
    "y_pred = logreg.predict(test_pca)\n",
    "test_acc = accuracy_score(y_test,y_pred)\n",
    "print(\"Testing accuracy :\",test_acc)"
   ]
  },
  {
   "cell_type": "code",
   "execution_count": null,
   "metadata": {},
   "outputs": [
    {
     "data": {
      "text/plain": [
       "8"
      ]
     },
     "execution_count": 41,
     "metadata": {},
     "output_type": "execute_result"
    }
   ],
   "source": [
    "pca.n_components_"
   ]
  },
  {
   "cell_type": "code",
   "execution_count": 17,
   "metadata": {},
   "outputs": [
    {
     "name": "stdout",
     "output_type": "stream",
     "text": [
      "Train accuracy : 0.5784692072680495\n",
      "Testing accuracy : 0.5670525808007718\n"
     ]
    }
   ],
   "source": [
    "rf = RandomForestClassifier(max_depth=3,n_estimators=200,random_state=42)\n",
    "rf.fit(X_train,y_train)\n",
    "y_pred = rf.predict(X_train)\n",
    "train_acc = accuracy_score(y_train,y_pred)\n",
    "print(\"Train accuracy :\",train_acc)\n",
    "y_pred = rf.predict(X_test)\n",
    "test_acc = accuracy_score(y_test,y_pred)\n",
    "print(\"Testing accuracy :\",test_acc)"
   ]
  },
  {
   "cell_type": "code",
   "execution_count": 14,
   "metadata": {},
   "outputs": [],
   "source": [
    "param_grid = {'n_estimators':np.arange(50,200,15),\n",
    "              'max_features':np.arange(0.1, 1, 0.1),\n",
    "              'max_depth': [3, 5, 7, 9],\n",
    "              'max_samples': [0.3, 0.5, 0.8]}\n",
    "\n",
    "model = RSCV(RandomForestClassifier(), param_grid, n_iter = 15).fit(X_train, y_train)\n",
    "model = model.best_estimator_"
   ]
  },
  {
   "cell_type": "code",
   "execution_count": 16,
   "metadata": {},
   "outputs": [
    {
     "data": {
      "text/plain": [
       "RandomForestClassifier(max_depth=7, max_features=0.8, max_samples=0.5,\n",
       "                       n_estimators=50)"
      ]
     },
     "execution_count": 16,
     "metadata": {},
     "output_type": "execute_result"
    }
   ],
   "source": [
    "model"
   ]
  },
  {
   "cell_type": "code",
   "execution_count": 15,
   "metadata": {},
   "outputs": [
    {
     "name": "stdout",
     "output_type": "stream",
     "text": [
      "Train accuracy : 0.6777616980221901\n",
      "Testing accuracy : 0.5670525808007718\n"
     ]
    }
   ],
   "source": [
    "model.fit(X_train,y_train)\n",
    "y_pred = model.predict(X_train)\n",
    "train_acc = accuracy_score(y_train,y_pred)\n",
    "print(\"Train accuracy :\",train_acc)\n",
    "y_pred = model.predict(X_test)\n",
    "test_acc = accuracy_score(y_test,y_pred)\n",
    "print(\"Testing accuracy :\",test_acc)"
   ]
  }
 ],
 "metadata": {
  "kernel_info": {
   "name": "python310-sdkv2"
  },
  "kernelspec": {
   "display_name": "Python 3 (ipykernel)",
   "language": "python",
   "name": "python3"
  },
  "language_info": {
   "codemirror_mode": {
    "name": "ipython",
    "version": 3
   },
   "file_extension": ".py",
   "mimetype": "text/x-python",
   "name": "python",
   "nbconvert_exporter": "python",
   "pygments_lexer": "ipython3",
   "version": "3.9.13"
  },
  "microsoft": {
   "host": {
    "AzureML": {
     "notebookHasBeenCompleted": true
    }
   },
   "ms_spell_check": {
    "ms_spell_check_language": "en"
   }
  },
  "nteract": {
   "version": "nteract-front-end@1.0.0"
  },
  "vscode": {
   "interpreter": {
    "hash": "46d171cb59015b1d91c5b28995c1a6a311307e5908393e8e327314ae408cae05"
   }
  }
 },
 "nbformat": 4,
 "nbformat_minor": 2
}

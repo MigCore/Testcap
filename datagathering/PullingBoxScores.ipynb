{
 "cells": [
  {
   "attachments": {},
   "cell_type": "markdown",
   "metadata": {},
   "source": [
    "Importing Pandas for using dataframes to extract data.\n",
    "Importing bs4 for text parsing"
   ]
  },
  {
   "cell_type": "code",
   "execution_count": 19,
   "metadata": {},
   "outputs": [],
   "source": [
    "import pandas as pd\n",
    "from bs4 import BeautifulSoup, Comment"
   ]
  },
  {
   "attachments": {},
   "cell_type": "markdown",
   "metadata": {},
   "source": [
    "Reading in rawdata of boxscores"
   ]
  },
  {
   "cell_type": "code",
   "execution_count": 20,
   "metadata": {},
   "outputs": [],
   "source": [
    "numbers=[16,17,18,19,20,21,22,23]\n",
    "All_dfs = []\n",
    "for i in numbers:\n",
    "    All_dfs.append(pd.read_csv(f'/Users/migcord/Springboard/Capstone/Spiders/NBA/data/20{i}_data.csv'))\n",
    "s16,s17,s18,s19,s20,s21,s22,s23 = All_dfs[0],All_dfs[1],All_dfs[2],All_dfs[3],All_dfs[4],All_dfs[5],All_dfs[6],All_dfs[7]\n"
   ]
  },
  {
   "attachments": {},
   "cell_type": "markdown",
   "metadata": {},
   "source": [
    "Defining  functions for extracting data\n",
    "\n",
    "Parsing function removes unnessecary data takes in raw tect and returns beautful soup data type"
   ]
  },
  {
   "cell_type": "code",
   "execution_count": null,
   "metadata": {},
   "outputs": [],
   "source": [
    "\n",
    "def parsing(unfiltered):\n",
    "    soup = BeautifulSoup(unfiltered,'lxml')\n",
    "    [soups.decompose() for soups in soup.select('tr.over_header')]\n",
    "    [soups.decompose() for soups in soup.select('tr.thead')]\n",
    "    return soup"
   ]
  },
  {
   "attachments": {},
   "cell_type": "markdown",
   "metadata": {},
   "source": [
    "Linescore function \n",
    "takes in soup object\n",
    "Finds all comments from soup then extracts table from the correct comment\n",
    "Returns df filled with linescore"
   ]
  },
  {
   "cell_type": "code",
   "execution_count": null,
   "metadata": {},
   "outputs": [],
   "source": [
    "\n",
    "def line_score(soup):\n",
    "    comments = soup.find_all(string=lambda text: isinstance(text, Comment))\n",
    "    linescore= None\n",
    "    for comment in comments:\n",
    "        if 'line_score' in comment:\n",
    "            linescore = pd.read_html(str(comment),attrs={'id': 'line_score'})[0]\n",
    "            break\n",
    "    cols =list(linescore.columns)\n",
    "    cols[0],cols[-1] = 'team','total'\n",
    "    linescore.columns = cols\n",
    "    linescore = linescore[['team','total']]\n",
    "    return linescore"
   ]
  },
  {
   "attachments": {},
   "cell_type": "markdown",
   "metadata": {},
   "source": [
    "ReadStats function\n",
    "finds box table and returns it."
   ]
  },
  {
   "cell_type": "code",
   "execution_count": null,
   "metadata": {},
   "outputs": [],
   "source": [
    "\n",
    "def readstats(soup,team,stat):\n",
    "    box = pd.read_html(str(soup),attrs={'id':f'box-{team}-game-{stat}'},index_col=0)[0]\n",
    "    box= box.apply(pd.to_numeric, errors='coerce')\n",
    "    return box"
   ]
  },
  {
   "attachments": {},
   "cell_type": "markdown",
   "metadata": {},
   "source": [
    "Grabs date"
   ]
  },
  {
   "cell_type": "code",
   "execution_count": 21,
   "metadata": {},
   "outputs": [],
   "source": [
    "def get_date(soup):\n",
    "    try:\n",
    "        date = str(soup.select('div.scorebox_meta > div:first-child')[0]).removeprefix('<div>')\n",
    "        date = date.removesuffix('</div>')\n",
    "        date = pd.to_datetime(date)\n",
    "    except:\n",
    "        return None\n",
    "    return date"
   ]
  },
  {
   "attachments": {},
   "cell_type": "markdown",
   "metadata": {},
   "source": [
    "CreatingSeasonStats\n",
    "takes in pd series \n",
    "parses it and extracts linescore/boxscores(advanced and basic)\n",
    "it then combines both teams totals and creates a game df combining both team stats. \n",
    "returns df of the full game"
   ]
  },
  {
   "cell_type": "code",
   "execution_count": 22,
   "metadata": {},
   "outputs": [],
   "source": [
    "def CreatingSeasonStats(boxscores):\n",
    "    base_cols =None\n",
    "    games = []\n",
    "    for boxscore in boxscores:\n",
    "        soup = parsing(boxscore)\n",
    "        date =get_date(soup)\n",
    "        linescore= line_score(soup)\n",
    "        summaries = []\n",
    "        for team in linescore['team']:\n",
    "    \n",
    "            basic = readstats(soup,team,'basic')\n",
    "            advanced = readstats(soup,team,'advanced')\n",
    "    \n",
    "            total = pd.concat([basic.iloc[-1,:],advanced.iloc[-1,:]])\n",
    "            total.index = total.index.str.lower()+'_total'\n",
    "    \n",
    "            maxes = pd.concat([basic.iloc[:-1,:].max(), advanced.iloc[:-1,:].max()])\n",
    "            maxes.index = maxes.index.str.lower()+'_max'\n",
    "    \n",
    "            game_summary = pd.concat([total,maxes])\n",
    "    \n",
    "            if base_cols is None:\n",
    "                base_cols = list(game_summary.index.drop_duplicates(keep='first'))\n",
    "                base_cols = [consistent for consistent in base_cols if 'bpm' not in consistent]\n",
    "        \n",
    "            game_summary = game_summary[base_cols]\n",
    "            summaries.append(game_summary)\n",
    "        summary = pd.concat(summaries,axis=1).T\n",
    "\n",
    "        game =pd.concat([summary,linescore],axis=1)\n",
    "        game['date'] = date\n",
    "        game['home'] = [0,1]\n",
    "        game_opp = game.iloc[::-1].reset_index()\n",
    "        game_opp.columns += \"_opp\"\n",
    "        full_game = pd.concat([game,game_opp], axis=1)\n",
    "        full_game['won'] = full_game['total'] > full_game['total_opp']\n",
    "        games.append(full_game)\n",
    "        if len(games) % 100 == 0:\n",
    "            print(len(games))\n",
    "    print(\"finished!!\")\n",
    "    return pd.concat(games,ignore_index=True)"
   ]
  },
  {
   "cell_type": "code",
   "execution_count": 24,
   "metadata": {},
   "outputs": [
    {
     "name": "stdout",
     "output_type": "stream",
     "text": [
      "100\n",
      "200\n",
      "300\n",
      "400\n",
      "500\n",
      "600\n",
      "700\n",
      "800\n",
      "900\n",
      "1000\n",
      "1100\n",
      "1200\n",
      "1300\n",
      "finished!!\n",
      "100\n",
      "200\n",
      "300\n",
      "400\n",
      "500\n",
      "600\n",
      "700\n",
      "800\n",
      "900\n",
      "1000\n",
      "1100\n",
      "1200\n",
      "1300\n",
      "finished!!\n",
      "100\n",
      "200\n",
      "300\n",
      "400\n",
      "500\n",
      "600\n",
      "700\n",
      "800\n",
      "900\n",
      "1000\n",
      "1100\n",
      "1200\n",
      "1300\n",
      "finished!!\n",
      "100\n",
      "200\n",
      "300\n",
      "400\n",
      "500\n",
      "600\n",
      "700\n",
      "800\n",
      "900\n",
      "1000\n",
      "1100\n",
      "1200\n",
      "1300\n",
      "finished!!\n",
      "100\n",
      "200\n",
      "300\n",
      "400\n",
      "500\n",
      "600\n",
      "700\n",
      "800\n",
      "900\n",
      "1000\n",
      "1100\n",
      "finished!!\n",
      "100\n",
      "200\n",
      "300\n",
      "400\n",
      "500\n",
      "600\n",
      "700\n",
      "800\n",
      "900\n",
      "1000\n",
      "1100\n",
      "1200\n",
      "finished!!\n",
      "100\n",
      "200\n",
      "300\n",
      "400\n",
      "500\n",
      "600\n",
      "700\n",
      "800\n",
      "900\n",
      "1000\n",
      "1100\n",
      "1200\n",
      "1300\n",
      "finished!!\n",
      "100\n",
      "200\n",
      "300\n",
      "400\n",
      "500\n",
      "600\n",
      "700\n",
      "finished!!\n"
     ]
    }
   ],
   "source": [
    "df_stats16 = CreatingSeasonStats(s16['Box_Score'])\n",
    "df_stats17 = CreatingSeasonStats(s17['Box_Score'])\n",
    "df_stats18 = CreatingSeasonStats(s18['Box_Score'])\n",
    "df_stats19 = CreatingSeasonStats(s19['Box_Score'])\n",
    "df_stats20 = CreatingSeasonStats(s20['Box_Score'])\n",
    "df_stats21 = CreatingSeasonStats(s21['Box_Score'])\n",
    "df_stats22 = CreatingSeasonStats(s22['Box_Score'])\n",
    "df_stats23 = CreatingSeasonStats(s23['Box_Score'])\n"
   ]
  },
  {
   "cell_type": "code",
   "execution_count": 25,
   "metadata": {},
   "outputs": [],
   "source": [
    "df_stats16.to_csv('2016_Boxscores.csv')\n",
    "df_stats17.to_csv('2017_Boxscores.csv')\n",
    "df_stats18.to_csv('2018_Boxscores.csv')\n",
    "df_stats19.to_csv('2019_Boxscores.csv')\n",
    "df_stats20.to_csv('2020_Boxscores.csv')\n",
    "df_stats21.to_csv('2021_Boxscores.csv')\n",
    "df_stats22.to_csv('2022_Boxscores.csv')\n",
    "df_stats23.to_csv('2023_Boxscores.csv')"
   ]
  },
  {
   "cell_type": "code",
   "execution_count": 29,
   "metadata": {},
   "outputs": [],
   "source": [
    "AllBoxScores = pd.concat([df_stats16,df_stats17,df_stats18,df_stats19,df_stats20,df_stats21,df_stats22,df_stats23])"
   ]
  },
  {
   "cell_type": "code",
   "execution_count": 31,
   "metadata": {},
   "outputs": [],
   "source": [
    "AllBoxScores.to_csv('AllBoxScores.csv')"
   ]
  }
 ],
 "metadata": {
  "kernelspec": {
   "display_name": "base",
   "language": "python",
   "name": "python3"
  },
  "language_info": {
   "codemirror_mode": {
    "name": "ipython",
    "version": 3
   },
   "file_extension": ".py",
   "mimetype": "text/x-python",
   "name": "python",
   "nbconvert_exporter": "python",
   "pygments_lexer": "ipython3",
   "version": "3.9.13"
  },
  "orig_nbformat": 4,
  "vscode": {
   "interpreter": {
    "hash": "46d171cb59015b1d91c5b28995c1a6a311307e5908393e8e327314ae408cae05"
   }
  }
 },
 "nbformat": 4,
 "nbformat_minor": 2
}
